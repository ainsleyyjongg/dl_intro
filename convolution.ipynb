{
  "cells": [
    {
      "cell_type": "markdown",
      "metadata": {
        "id": "view-in-github",
        "colab_type": "text"
      },
      "source": [
        "<a href=\"https://colab.research.google.com/github/ainsleyyjongg/dl_intro/blob/main/convolution.ipynb\" target=\"_parent\"><img src=\"https://colab.research.google.com/assets/colab-badge.svg\" alt=\"Open In Colab\"/></a>"
      ]
    },
    {
      "cell_type": "markdown",
      "metadata": {
        "id": "SsIJu3J2Q-LX"
      },
      "source": [
        "# What you will learn\n",
        "1. Convolutional layers and the convolution operation\n",
        "1. Pooling layers\n",
        "1. Confusion matrix"
      ]
    },
    {
      "cell_type": "markdown",
      "metadata": {
        "id": "a3yoP9bC2nH-"
      },
      "source": [
        "### CODE CELL 1"
      ]
    },
    {
      "cell_type": "code",
      "execution_count": 1,
      "metadata": {
        "id": "ncY2kB4HxYJj"
      },
      "outputs": [],
      "source": [
        "import torch\n",
        "import torch.nn as nn\n",
        "import torch.nn.functional as F\n",
        "import torchvision as vision\n",
        "import torchvision.transforms as transforms\n",
        "from torch.utils.data import DataLoader\n",
        "from torch.optim import SGD,Adam"
      ]
    },
    {
      "cell_type": "markdown",
      "metadata": {
        "id": "bIQwoLLmL1Ku"
      },
      "source": [
        "## Convolutional Network\n",
        "\n",
        "Convolutional neural network are very successfully in computer vision applications. They have the ability to progressively detect patterns in images and videos. Usually, the first few layers detect \"low level\" features such as lines and edges and, building on those, later layers detect more complicated features such as faces and objects."
      ]
    },
    {
      "cell_type": "markdown",
      "metadata": {
        "id": "jgbNUPv3DuFd"
      },
      "source": [
        "### Convolution Operations\n",
        "We start with a simple example. Let I be an input image. Typically $I$ would be represented by a tensor of shape $(H,W,C)$ where $H$, $W$, and $C$ are the height, width, and color channel respectively. Therefore,  $I[h,w,c]$ refers to the value of channel $c$ in pixel $(h,w)$. Let $K$ be a filter with shape $(m,n)$ then the convolution operation produces the following tensor\n",
        "\\begin{align*}\n",
        "T_{i,j}=\\sum_c\\sum_{m,n}X_{i+m,j+n,c}*K_{m,n}\n",
        "\\end{align*}\n",
        "The above operation is illustrated in the example below. Click on the figures to see the sequence of operations.\n"
      ]
    },
    {
      "cell_type": "code",
      "execution_count": 2,
      "metadata": {
        "colab": {
          "base_uri": "https://localhost:8080/",
          "height": 321
        },
        "id": "iKb-d5U7TVit",
        "outputId": "5771f731-291d-4add-b412-0d1cfb57696c"
      },
      "outputs": [
        {
          "output_type": "display_data",
          "data": {
            "text/plain": [
              "<IPython.core.display.HTML object>"
            ],
            "text/html": [
              "<iframe src=\"https://docs.google.com/presentation/d/e/2PACX-1vQBSo0SLsiigeXPOP4MGOS55ez9hvRT0xWocjs16K7U4JMTD1UnHXrNAu43qRo_GQ/embed?start=true&loop=true&delayms=3000\" frameborder=\"0\" width=\"500\" height=\"300\" allowfullscreen=\"true\" mozallowfullscreen=\"true\" webkitallowfullscreen=\"true\"></iframe>\n"
            ]
          },
          "metadata": {}
        }
      ],
      "source": [
        "\n",
        "%%HTML\n",
        "<iframe src=\"https://docs.google.com/presentation/d/e/2PACX-1vQBSo0SLsiigeXPOP4MGOS55ez9hvRT0xWocjs16K7U4JMTD1UnHXrNAu43qRo_GQ/embed?start=true&loop=true&delayms=3000\" frameborder=\"0\" width=\"500\" height=\"300\" allowfullscreen=\"true\" mozallowfullscreen=\"true\" webkitallowfullscreen=\"true\"></iframe>"
      ]
    },
    {
      "cell_type": "markdown",
      "metadata": {
        "id": "cNA6kJtKHckt"
      },
      "source": [
        "## Pooling\n",
        "Pooling replaces a region of the input with a \"summary\" statistic, usually the maximum. This makes the computation almost translation invariant."
      ]
    },
    {
      "cell_type": "markdown",
      "metadata": {
        "id": "lDZcLr1CMtJ_"
      },
      "source": [
        "### Pooling example\n",
        "\n",
        "In the example below, notice how the MaxPool2D picks the maximum from each 2x2 submatrix"
      ]
    },
    {
      "cell_type": "markdown",
      "source": [],
      "metadata": {
        "id": "YPPkObk_D0DW"
      }
    },
    {
      "cell_type": "code",
      "execution_count": 3,
      "metadata": {
        "colab": {
          "base_uri": "https://localhost:8080/"
        },
        "id": "l5Uq1_TjM9wf",
        "outputId": "792509e9-5164-4dfa-9eee-44c20fca1d47"
      },
      "outputs": [
        {
          "output_type": "stream",
          "name": "stdout",
          "text": [
            "tensor([[ 1.,  2.,  4.,  3.],\n",
            "        [ 5.,  6.,  8.,  7.],\n",
            "        [ 9., 10., 12., 11.],\n",
            "        [13., 14., 16.,  2.]])\n",
            "tensor([[ 6.,  8.],\n",
            "        [14., 16.]])\n"
          ]
        }
      ],
      "source": [
        "input=torch.tensor([[1,2,4,3],[5,6,8,7],[9,10,12,11],[13,14,16,2]]).float()\n",
        "# 1 sample, 1 channel, 4 height, 4 width\n",
        "input=input.reshape([1,1,4,4])\n",
        "output=nn.MaxPool2d(kernel_size=(2,2))(input)\n",
        "print(input.squeeze())\n",
        "print(output.squeeze())"
      ]
    },
    {
      "cell_type": "markdown",
      "metadata": {
        "id": "K3NyN5gKOwS5"
      },
      "source": [
        "## Data\n",
        "The data is CIFAR10 with 50000 images for training and 10000 for testing. Each images has 3 channels and size 32x32.\n",
        "As we have done before we convert the PIL images to tensor and then normalize the values. Since there are 3 channels we need 3 values for the mean and 3 for the standard deviation"
      ]
    },
    {
      "cell_type": "code",
      "execution_count": 4,
      "metadata": {
        "id": "6V4TKvYOEmVU",
        "outputId": "a7f9dd8a-0afb-4d5b-9474-08abc1657e6e",
        "colab": {
          "base_uri": "https://localhost:8080/"
        }
      },
      "outputs": [
        {
          "output_type": "stream",
          "name": "stdout",
          "text": [
            "Downloading https://www.cs.toronto.edu/~kriz/cifar-10-python.tar.gz to ./cifar-10-python.tar.gz\n"
          ]
        },
        {
          "output_type": "stream",
          "name": "stderr",
          "text": [
            "100%|██████████| 170M/170M [00:18<00:00, 9.21MB/s]\n"
          ]
        },
        {
          "output_type": "stream",
          "name": "stdout",
          "text": [
            "Extracting ./cifar-10-python.tar.gz to .\n",
            "Files already downloaded and verified\n"
          ]
        }
      ],
      "source": [
        "transform = transforms.Compose(\n",
        "    [transforms.ToTensor(),\n",
        "     transforms.Normalize((0, 0, 0), (0.5, 0.5, 0.5))])\n",
        "dataset_train=vision.datasets.CIFAR10(\".\",download=True,train=True,transform=transform)\n",
        "dataset_test=vision.datasets.CIFAR10(\".\",download=True,train=False,transform=transform)\n",
        "loader_train=DataLoader(dataset_train,batch_size=64,shuffle=True,num_workers=2)\n",
        "loader_test=DataLoader(dataset_test,batch_size=512,shuffle=False)"
      ]
    },
    {
      "cell_type": "markdown",
      "metadata": {
        "id": "l0kyAjE5PVrc"
      },
      "source": [
        "## Model\n",
        "\n",
        "- Our model uses a stack of convolutional and pooling layers.\n",
        "- The last two layers are fully connected with the size of the output of the last one is 10 = number of classes\n",
        "- Note that the output of convolutional layers a \"3-d\" objects so we need to \"flatten\" then before feeding them to the fully connected layers"
      ]
    },
    {
      "cell_type": "code",
      "execution_count": 13,
      "metadata": {
        "id": "n7c0dC1WTf8w"
      },
      "outputs": [],
      "source": [
        "class Net(nn.Module):\n",
        "  def __init__(self):\n",
        "    super().__init__()\n",
        "    # input is (*,3,32,32)\n",
        "    self.conv1=nn.Conv2d(in_channels=3,out_channels=32,kernel_size=3) # kernel size = 3 => is a 3x3 matrix, out_channels = 32 => use 32 kernels\n",
        "    self.relu=nn.ReLU()\n",
        "    # input is (*,32,30,30)\n",
        "    self.pool1=nn.MaxPool2d(kernel_size=(2,2))\n",
        "    # input is (*,32,15,15)\n",
        "    self.conv2=nn.Conv2d(in_channels=32,out_channels=64,kernel_size=3)\n",
        "    # input is (*,64,13,13)\n",
        "    self.pool2=nn.MaxPool2d(kernel_size=(2,2))\n",
        "    # input is (*,64,6,6)\n",
        "    self.conv3=nn.Conv2d(in_channels=64,out_channels=64,kernel_size=3)\n",
        "    # input is (*,64,4,4)\n",
        "    self.pool3=nn.MaxPool2d(kernel_size=(2,2))\n",
        "    # input is (*,64,2,2)\n",
        "    self.flatten=nn.Flatten()\n",
        "    # input is (*,64x2x2)\n",
        "    self.fc1=nn.Linear(in_features=2*2*64,out_features=64)\n",
        "    self.fc2=nn.Linear(in_features=64,out_features=10)\n",
        "\n",
        "  def forward(self,x):\n",
        "    x=self.conv1(x)\n",
        "    x=self.relu(x)\n",
        "    x=self.pool1(x)\n",
        "\n",
        "    x=self.conv2(x)\n",
        "    x=self.relu(x)\n",
        "    x=self.pool2(x)\n",
        "\n",
        "    x=self.conv3(x)\n",
        "    x=self.relu(x)\n",
        "    x=self.pool3(x)\n",
        "\n",
        "    x=self.flatten(x)\n",
        "    x=self.fc1(x)\n",
        "    x=self.relu(x)\n",
        "    x=self.fc2(x)\n",
        "    return x\n",
        ""
      ]
    },
    {
      "cell_type": "code",
      "execution_count": 14,
      "metadata": {
        "id": "ayNL7ZjxB2Uu"
      },
      "outputs": [],
      "source": [
        "def get_accuracy(dataloader,model):\n",
        "  total=len(dataloader.dataset.data)\n",
        "  correct=0\n",
        "  for data in dataloader:\n",
        "    imgs,labels=data\n",
        "    imgs=imgs.cuda()\n",
        "    labels=labels.cuda()\n",
        "    outputs=model(imgs)\n",
        "  # the second return value is the index of the max i.e. argmax\n",
        "    _,predicted=torch.max(outputs.data,1) # \"_\" => Output value, \"predicted\" => The index of Output value\n",
        "    correct+=(predicted==labels).sum()\n",
        "\n",
        "\n",
        "  return (correct/total).item()"
      ]
    },
    {
      "cell_type": "markdown",
      "metadata": {
        "id": "v68yHDDn2_WP"
      },
      "source": [
        "Instantiate the model, the optimizer and the loss function"
      ]
    },
    {
      "cell_type": "code",
      "execution_count": 7,
      "metadata": {
        "id": "f8gF3jH98jtT"
      },
      "outputs": [],
      "source": [
        "model=Net().cuda()\n",
        "optimizer=Adam(model.parameters())\n",
        "loss_fn=nn.CrossEntropyLoss()"
      ]
    },
    {
      "cell_type": "markdown",
      "metadata": {
        "id": "E-h6lTtHKlMM"
      },
      "source": [
        "## Training loop"
      ]
    },
    {
      "cell_type": "code",
      "execution_count": 8,
      "metadata": {
        "colab": {
          "base_uri": "https://localhost:8080/"
        },
        "id": "D1aaOGae8n2N",
        "outputId": "b275ca6b-ceca-4dc2-db44-ed2ed0e7aff8"
      },
      "outputs": [
        {
          "output_type": "stream",
          "name": "stderr",
          "text": [
            "Epoch [1/3]: 100%|██████████| 782/782 [00:19<00:00, 39.14it/s, loss=2.48]\n",
            "Epoch [2/3]: 100%|██████████| 782/782 [00:19<00:00, 41.08it/s, loss=1.22]\n",
            "Epoch [3/3]: 100%|██████████| 782/782 [00:18<00:00, 42.54it/s, loss=0.595]\n"
          ]
        }
      ],
      "source": [
        "epochs=3\n",
        "from tqdm import tqdm\n",
        "for epoch in range(epochs):\n",
        "  loop=tqdm(loader_train)\n",
        "  loop.set_description(f\"Epoch [{epoch+1}/{epochs}]\")\n",
        "  for (imgs,labels) in loop:\n",
        "    optimizer.zero_grad()\n",
        "    imgs=imgs.cuda()\n",
        "    labels=labels.cuda()\n",
        "    outputs=model(imgs)\n",
        "    loss=loss_fn(outputs,labels)\n",
        "    loss.backward()\n",
        "    optimizer.step()\n",
        "    loop.set_postfix(loss=loss.item())\n",
        "\n",
        "  acc=get_accuracy(loader_test,model)"
      ]
    },
    {
      "cell_type": "markdown",
      "metadata": {
        "id": "ZJpbDV7pdXRK"
      },
      "source": [
        "# Accuracy and confusion matrix\n",
        "\n",
        "One would like to measure the accuracy of the model at the end of the run. As important, to get an idea which class is more/less accurately predicted."
      ]
    },
    {
      "cell_type": "code",
      "execution_count": 9,
      "metadata": {
        "colab": {
          "base_uri": "https://localhost:8080/"
        },
        "id": "cXxIMoblYRwO",
        "outputId": "b80cd6fe-8a6b-4f70-c4ff-9c6cede45964"
      },
      "outputs": [
        {
          "output_type": "stream",
          "name": "stdout",
          "text": [
            "Collecting torchmetrics\n",
            "  Downloading torchmetrics-1.5.1-py3-none-any.whl.metadata (20 kB)\n",
            "Requirement already satisfied: numpy<2.0,>1.20.0 in /usr/local/lib/python3.10/dist-packages (from torchmetrics) (1.26.4)\n",
            "Requirement already satisfied: packaging>17.1 in /usr/local/lib/python3.10/dist-packages (from torchmetrics) (24.1)\n",
            "Requirement already satisfied: torch>=1.10.0 in /usr/local/lib/python3.10/dist-packages (from torchmetrics) (2.5.0+cu121)\n",
            "Collecting lightning-utilities>=0.8.0 (from torchmetrics)\n",
            "  Downloading lightning_utilities-0.11.8-py3-none-any.whl.metadata (5.2 kB)\n",
            "Requirement already satisfied: setuptools in /usr/local/lib/python3.10/dist-packages (from lightning-utilities>=0.8.0->torchmetrics) (75.1.0)\n",
            "Requirement already satisfied: typing-extensions in /usr/local/lib/python3.10/dist-packages (from lightning-utilities>=0.8.0->torchmetrics) (4.12.2)\n",
            "Requirement already satisfied: filelock in /usr/local/lib/python3.10/dist-packages (from torch>=1.10.0->torchmetrics) (3.16.1)\n",
            "Requirement already satisfied: networkx in /usr/local/lib/python3.10/dist-packages (from torch>=1.10.0->torchmetrics) (3.4.2)\n",
            "Requirement already satisfied: jinja2 in /usr/local/lib/python3.10/dist-packages (from torch>=1.10.0->torchmetrics) (3.1.4)\n",
            "Requirement already satisfied: fsspec in /usr/local/lib/python3.10/dist-packages (from torch>=1.10.0->torchmetrics) (2024.10.0)\n",
            "Requirement already satisfied: sympy==1.13.1 in /usr/local/lib/python3.10/dist-packages (from torch>=1.10.0->torchmetrics) (1.13.1)\n",
            "Requirement already satisfied: mpmath<1.4,>=1.1.0 in /usr/local/lib/python3.10/dist-packages (from sympy==1.13.1->torch>=1.10.0->torchmetrics) (1.3.0)\n",
            "Requirement already satisfied: MarkupSafe>=2.0 in /usr/local/lib/python3.10/dist-packages (from jinja2->torch>=1.10.0->torchmetrics) (3.0.2)\n",
            "Downloading torchmetrics-1.5.1-py3-none-any.whl (890 kB)\n",
            "\u001b[2K   \u001b[90m━━━━━━━━━━━━━━━━━━━━━━━━━━━━━━━━━━━━━━━━\u001b[0m \u001b[32m890.6/890.6 kB\u001b[0m \u001b[31m34.6 MB/s\u001b[0m eta \u001b[36m0:00:00\u001b[0m\n",
            "\u001b[?25hDownloading lightning_utilities-0.11.8-py3-none-any.whl (26 kB)\n",
            "Installing collected packages: lightning-utilities, torchmetrics\n",
            "Successfully installed lightning-utilities-0.11.8 torchmetrics-1.5.1\n"
          ]
        }
      ],
      "source": [
        "!pip install torchmetrics\n",
        "from torchmetrics import ConfusionMatrix\n",
        "conmat=ConfusionMatrix(task=\"multiclass\",num_classes=10)\n",
        "conmat=conmat.cuda()"
      ]
    },
    {
      "cell_type": "code",
      "execution_count": 10,
      "metadata": {
        "id": "ReSk1t4C86ed"
      },
      "outputs": [],
      "source": [
        "total=0\n",
        "correct=0\n",
        "for data in loader_test:\n",
        "  imgs,labels=data\n",
        "  imgs=imgs.cuda()\n",
        "  labels=labels.cuda()\n",
        "  outputs=model(imgs)\n",
        "  # the second return value is the index of the max i.e. argmax\n",
        "  _,predicted=torch.max(outputs.data,1)\n",
        "  correct+=(predicted==labels).sum()\n",
        "  total+=labels.size()[0]\n",
        "  conmat.update(predicted,labels)"
      ]
    },
    {
      "cell_type": "code",
      "execution_count": 11,
      "metadata": {
        "colab": {
          "base_uri": "https://localhost:8080/"
        },
        "id": "UBM21wZcBlcs",
        "outputId": "4b7c07d2-26f7-4820-bc8b-26683e2e7a4a"
      },
      "outputs": [
        {
          "output_type": "stream",
          "name": "stdout",
          "text": [
            "tensor(0.5843, device='cuda:0')\n"
          ]
        }
      ],
      "source": [
        "print(correct/total)"
      ]
    },
    {
      "cell_type": "markdown",
      "metadata": {
        "id": "aqxWwZGD3czw"
      },
      "source": [
        "Visualize the confusion matrix"
      ]
    },
    {
      "cell_type": "code",
      "execution_count": 12,
      "metadata": {
        "colab": {
          "base_uri": "https://localhost:8080/",
          "height": 681
        },
        "id": "zWo0YjDdXrkd",
        "outputId": "d5d078d1-edd7-4a8f-e96f-1bf8ef93a31f"
      },
      "outputs": [
        {
          "output_type": "execute_result",
          "data": {
            "text/plain": [
              "<Axes: >"
            ]
          },
          "metadata": {},
          "execution_count": 12
        },
        {
          "output_type": "display_data",
          "data": {
            "text/plain": [
              "<Figure size 1000x700 with 2 Axes>"
            ],
            "image/png": "[encoded data removed]"
          },
          "metadata": {}
        }
      ],
      "source": [
        "import matplotlib.pyplot as plt\n",
        "import seaborn as sb\n",
        "x=conmat.compute().cpu().numpy()\n",
        "plt.figure(figsize=(10,7))\n",
        "sb.heatmap(x,xticklabels=dataset_train.classes,yticklabels=dataset_train.classes,annot=True,fmt=\".0f\")"
      ]
    }
  ],
  "metadata": {
    "accelerator": "GPU",
    "colab": {
      "provenance": [],
      "include_colab_link": true
    },
    "gpuClass": "standard",
    "kernelspec": {
      "display_name": "pytorch",
      "language": "python",
      "name": "python3"
    },
    "language_info": {
      "codemirror_mode": {
        "name": "ipython",
        "version": 3
      },
      "file_extension": ".py",
      "mimetype": "text/x-python",
      "name": "python",
      "nbconvert_exporter": "python",
      "pygments_lexer": "ipython3",
      "version": "3.11.5"
    }
  },
  "nbformat": 4,
  "nbformat_minor": 0
}